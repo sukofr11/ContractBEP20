{
  "nbformat": 4,
  "nbformat_minor": 0,
  "metadata": {
    "colab": {
      "provenance": [],
      "mount_file_id": "1Ksbr_1d8xu5_oVDFWcr3mhO085ZOavJh",
      "authorship_tag": "ABX9TyPYh9pb44BfehcDNFKrtZaS",
      "include_colab_link": true
    },
    "kernelspec": {
      "name": "python3",
      "display_name": "Python 3"
    },
    "language_info": {
      "name": "python"
    }
  },
  "cells": [
    {
      "cell_type": "markdown",
      "metadata": {
        "id": "view-in-github",
        "colab_type": "text"
      },
      "source": [
        "<a href=\"https://colab.research.google.com/github/sukofr11/ContractBEP20/blob/main/beisbol.ipynb\" target=\"_parent\"><img src=\"https://colab.research.google.com/assets/colab-badge.svg\" alt=\"Open In Colab\"/></a>"
      ]
    },
    {
      "cell_type": "code",
      "source": [
        "import pandas as pd\n",
        "\n",
        "# Cargar el archivo CSV\n",
        "bateadores = pd.read_csv('bateadores.csv')\n",
        "\n",
        "# Mostrar las primeras filas del archivo para verificar que se cargó correctamente\n",
        "print(bateadores.head())\n"
      ],
      "metadata": {
        "colab": {
          "base_uri": "https://localhost:8080/"
        },
        "id": "82427i0yke85",
        "outputId": "91770139-249e-4bc4-97ea-e9dcd7b4b9c0"
      },
      "execution_count": 1,
      "outputs": [
        {
          "output_type": "stream",
          "name": "stdout",
          "text": [
            "  Rk;Name;Age;Tm;Lg;G;PA;AB;R;H;2B;3B;HR;RBI;SB;CS;BB;SO;BA;OBP;SLG;OPS;OPS+;TB;GDP;HBP;SH;SF;IBB;Pos Summary;Name-additional\n",
            "0  1;CJ Abrams*;22;WSN;NL;35;126;116;13;28;4;2;2;...                                                                         \n",
            "1  2;José Abreu;36;HOU;AL;36;151;142;9;31;6;0;0;1...                                                                         \n",
            "2  3;Ronald Acuna Jr.;25;ATL;NL;36;165;140;33;48;...                                                                         \n",
            "3  4;Willy Adames;27;MIL;NL;36;155;131;19;30;4;0;...                                                                         \n",
            "4  5;Riley Adams;27;WSN;NL;5;21;19;1;4;1;0;0;2;0;...                                                                         \n"
          ]
        }
      ]
    },
    {
      "cell_type": "code",
      "source": [
        "import pandas as pd\n",
        "\n",
        "# Cargar el archivo CSV\n",
        "pitchers = pd.read_csv('pitchers.csv')\n",
        "\n",
        "# Mostrar las primeras filas del archivo para verificar que se cargó correctamente\n",
        "print(pitchers.head())\n"
      ],
      "metadata": {
        "colab": {
          "base_uri": "https://localhost:8080/"
        },
        "id": "QY3WeJLXlMvA",
        "outputId": "a949cf17-d7c5-4fab-840c-050055509659"
      },
      "execution_count": 5,
      "outputs": [
        {
          "output_type": "stream",
          "name": "stdout",
          "text": [
            "  Rk;Name;Age;Tm;Lg;W;L;W-L%;ERA;G;GS;GF;CG;SHO;SV;IP;H;R;ER;HR;BB;IBB;SO;HBP;BK;WP;BF;ERA+;FIP;WHIP;H9;HR9;BB9;SO9;SO/W;Name-additional\n",
            "0  1;Cory Abbott;27;WSN;NL;0;0;;450;1;0;1;0;0;0;2...                                                                                    \n",
            "1  2;Albert Abreu;27;NYY;AL;1;1;.500;486;13;0;5;0...                                                                                    \n",
            "2  3;Bryan Abreu;26;HOU;AL;1;0;1.000;156;17;0;4;0...                                                                                    \n",
            "3  4;Domingo Acevedo;29;OAK;AL;0;0;;1061;9;0;1;0;...                                                                                    \n",
            "4  5;Jason Adam;31;TBR;AL;0;0;;117;16;0;8;0;0;4;1...                                                                                    \n"
          ]
        }
      ]
    },
    {
      "cell_type": "code",
      "source": [
        "import pandas as pd\n",
        "\n",
        "# Cargar el archivo CSV\n",
        "starters = pd.read_csv('starters.csv')\n",
        "\n",
        "# Mostrar las primeras filas del archivo para verificar que se cargó correctamente\n",
        "print(starters.head())"
      ],
      "metadata": {
        "colab": {
          "base_uri": "https://localhost:8080/"
        },
        "id": "V_GHgg24lomK",
        "outputId": "2767371d-0a03-4564-934c-470617f2a0ec"
      },
      "execution_count": 9,
      "outputs": [
        {
          "output_type": "stream",
          "name": "stdout",
          "text": [
            "                                                   Rk;Name;Age;Tm;IP;G;GS;Wgs;Lgs;ND;Wchp;Ltuf;Wtm;Ltm;tmW-L%;Wlst;Lsv;CG;SHO;QS;QS%;GmScA;Best;Wrst;BQR;BQS;sDR;lDR;RS/GS;RS/IP;IP/GS;Pit/GS;<80;80-99;100-119;≥120;Max;Name-additional\n",
            "1;Sandy Alcantara;27;MIA;432;7;7;1;3;3;0;1;2;5;...  43;519;85;9;8;3;0;5;21;14;62;94;1;3;3;0;113;al...                                                                                                                                   \n",
            "2;Logan Allen*;24;CLE;162;3;3;1;1;1;0;0;2;1;.66...  33;567;65;48;1;0;0;3;43;39;56;94;0;2;1;0;104;a...                                                                                                                                   \n",
            "3;Tyler Anderson*;33;LAA;312;6;6;1;0;5;0;0;3;3;...  33;438;66;20;6;3;0;6;61;52;53;90;1;3;2;0;109;a...                                                                                                                                   \n",
            "4;Graham Ashcraft;25;CIN;372;7;7;2;1;4;0;0;4;3;...  71;530;70;12;3;2;0;4;48;39;54;88;1;5;1;0;101;a...                                                                                                                                   \n",
            "5;Javier Assad;25;CHC;172;5;1;0;0;1;0;0;0;1;.00...                                                NaN                                                                                                                                   \n"
          ]
        }
      ]
    }
  ]
}